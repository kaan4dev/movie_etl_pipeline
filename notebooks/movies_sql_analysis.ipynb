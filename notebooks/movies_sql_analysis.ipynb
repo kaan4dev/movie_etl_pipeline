{
 "cells": [
  {
   "cell_type": "code",
   "execution_count": 77,
   "id": "2a1eb7f7",
   "metadata": {},
   "outputs": [],
   "source": [
    "from google.cloud import bigquery\n",
    "import pandas as pd\n",
    "import matplotlib.pyplot as plt\n",
    "import seaborn as sns\n",
    "\n",
    "import warnings\n",
    "warnings.filterwarnings(\"ignore\")\n"
   ]
  },
  {
   "cell_type": "code",
   "execution_count": 12,
   "id": "8501809b",
   "metadata": {},
   "outputs": [],
   "source": [
    "client = bigquery.Client(project=\"movie-etl-pipeline\")"
   ]
  },
  {
   "cell_type": "code",
   "execution_count": 19,
   "id": "dffb92c8",
   "metadata": {},
   "outputs": [
    {
     "name": "stderr",
     "output_type": "stream",
     "text": [
      "E0000 00:00:1758823191.903374 2333618 alts_credentials.cc:93] ALTS creds ignored. Not running on GCP and untrusted ALTS is not enabled.\n"
     ]
    },
    {
     "data": {
      "application/vnd.microsoft.datawrangler.viewer.v0+json": {
       "columns": [
        {
         "name": "index",
         "rawType": "int64",
         "type": "integer"
        },
        {
         "name": "rating_percent",
         "rawType": "float64",
         "type": "float"
        },
        {
         "name": "language_full",
         "rawType": "object",
         "type": "string"
        },
        {
         "name": "release_year",
         "rawType": "Int64",
         "type": "integer"
        },
        {
         "name": "title",
         "rawType": "object",
         "type": "string"
        },
        {
         "name": "vote_count",
         "rawType": "Int64",
         "type": "integer"
        },
        {
         "name": "genre_id",
         "rawType": "Int64",
         "type": "integer"
        },
        {
         "name": "popularity_bucket",
         "rawType": "object",
         "type": "string"
        },
        {
         "name": "id",
         "rawType": "Int64",
         "type": "integer"
        }
       ],
       "ref": "d8d4e416-1f68-4fcf-9097-f94143e8ab91",
       "rows": [
        [
         "0",
         "0.0",
         "English",
         null,
         "Enola Holmes 3",
         "0",
         "12",
         "Low",
         "1202033"
        ],
        [
         "1",
         "0.0",
         "English",
         "1912",
         "Fra Diavolo",
         "0",
         "12",
         "Low",
         "625106"
        ],
        [
         "2",
         "0.0",
         "English",
         "1912",
         "Under Two Flags",
         "0",
         "12",
         "Low",
         "664676"
        ],
        [
         "3",
         "0.0",
         "English",
         "1919",
         "Wings of the Morning",
         "0",
         "12",
         "Low",
         "1508820"
        ],
        [
         "4",
         "0.0",
         "English",
         "1922",
         "The Love Gambler",
         "0",
         "12",
         "Low",
         "959020"
        ]
       ],
       "shape": {
        "columns": 8,
        "rows": 5
       }
      },
      "text/html": [
       "<div>\n",
       "<style scoped>\n",
       "    .dataframe tbody tr th:only-of-type {\n",
       "        vertical-align: middle;\n",
       "    }\n",
       "\n",
       "    .dataframe tbody tr th {\n",
       "        vertical-align: top;\n",
       "    }\n",
       "\n",
       "    .dataframe thead th {\n",
       "        text-align: right;\n",
       "    }\n",
       "</style>\n",
       "<table border=\"1\" class=\"dataframe\">\n",
       "  <thead>\n",
       "    <tr style=\"text-align: right;\">\n",
       "      <th></th>\n",
       "      <th>rating_percent</th>\n",
       "      <th>language_full</th>\n",
       "      <th>release_year</th>\n",
       "      <th>title</th>\n",
       "      <th>vote_count</th>\n",
       "      <th>genre_id</th>\n",
       "      <th>popularity_bucket</th>\n",
       "      <th>id</th>\n",
       "    </tr>\n",
       "  </thead>\n",
       "  <tbody>\n",
       "    <tr>\n",
       "      <th>0</th>\n",
       "      <td>0.0</td>\n",
       "      <td>English</td>\n",
       "      <td>&lt;NA&gt;</td>\n",
       "      <td>Enola Holmes 3</td>\n",
       "      <td>0</td>\n",
       "      <td>12</td>\n",
       "      <td>Low</td>\n",
       "      <td>1202033</td>\n",
       "    </tr>\n",
       "    <tr>\n",
       "      <th>1</th>\n",
       "      <td>0.0</td>\n",
       "      <td>English</td>\n",
       "      <td>1912</td>\n",
       "      <td>Fra Diavolo</td>\n",
       "      <td>0</td>\n",
       "      <td>12</td>\n",
       "      <td>Low</td>\n",
       "      <td>625106</td>\n",
       "    </tr>\n",
       "    <tr>\n",
       "      <th>2</th>\n",
       "      <td>0.0</td>\n",
       "      <td>English</td>\n",
       "      <td>1912</td>\n",
       "      <td>Under Two Flags</td>\n",
       "      <td>0</td>\n",
       "      <td>12</td>\n",
       "      <td>Low</td>\n",
       "      <td>664676</td>\n",
       "    </tr>\n",
       "    <tr>\n",
       "      <th>3</th>\n",
       "      <td>0.0</td>\n",
       "      <td>English</td>\n",
       "      <td>1919</td>\n",
       "      <td>Wings of the Morning</td>\n",
       "      <td>0</td>\n",
       "      <td>12</td>\n",
       "      <td>Low</td>\n",
       "      <td>1508820</td>\n",
       "    </tr>\n",
       "    <tr>\n",
       "      <th>4</th>\n",
       "      <td>0.0</td>\n",
       "      <td>English</td>\n",
       "      <td>1922</td>\n",
       "      <td>The Love Gambler</td>\n",
       "      <td>0</td>\n",
       "      <td>12</td>\n",
       "      <td>Low</td>\n",
       "      <td>959020</td>\n",
       "    </tr>\n",
       "  </tbody>\n",
       "</table>\n",
       "</div>"
      ],
      "text/plain": [
       "   rating_percent language_full  release_year                 title  \\\n",
       "0             0.0       English          <NA>        Enola Holmes 3   \n",
       "1             0.0       English          1912           Fra Diavolo   \n",
       "2             0.0       English          1912       Under Two Flags   \n",
       "3             0.0       English          1919  Wings of the Morning   \n",
       "4             0.0       English          1922      The Love Gambler   \n",
       "\n",
       "   vote_count  genre_id popularity_bucket       id  \n",
       "0           0        12               Low  1202033  \n",
       "1           0        12               Low   625106  \n",
       "2           0        12               Low   664676  \n",
       "3           0        12               Low  1508820  \n",
       "4           0        12               Low   959020  "
      ]
     },
     "execution_count": 19,
     "metadata": {},
     "output_type": "execute_result"
    }
   ],
   "source": [
    "query = \"\"\"\n",
    "SELECT *\n",
    "FROM `movie-etl-pipeline.movies.cleaned_movies`\n",
    "\"\"\"\n",
    "\n",
    "df = client.query(query).to_dataframe()\n",
    "df.head()"
   ]
  },
  {
   "cell_type": "code",
   "execution_count": 15,
   "id": "8fdd4ec6",
   "metadata": {},
   "outputs": [
    {
     "data": {
      "image/png": "[encoded data removed]",
      "text/plain": [
       "<Figure size 1200x600 with 1 Axes>"
      ]
     },
     "metadata": {},
     "output_type": "display_data"
    }
   ],
   "source": [
    "plt.figure(figsize=(12,6))\n",
    "plt.plot(df[\"release_year\"], df[\"total_movies\"], marker=\"o\")\n",
    "plt.title(\"Movies Per Year\")\n",
    "plt.xlabel(\"Yer\")\n",
    "plt.ylabel(\"Movie Count\")\n",
    "plt.grid(True)\n",
    "plt.show()"
   ]
  },
  {
   "cell_type": "code",
   "execution_count": 16,
   "id": "21bb654b",
   "metadata": {},
   "outputs": [
    {
     "name": "stderr",
     "output_type": "stream",
     "text": [
      "E0000 00:00:1758822626.136905 2333618 alts_credentials.cc:93] ALTS creds ignored. Not running on GCP and untrusted ALTS is not enabled.\n"
     ]
    },
    {
     "data": {
      "application/vnd.microsoft.datawrangler.viewer.v0+json": {
       "columns": [
        {
         "name": "index",
         "rawType": "int64",
         "type": "integer"
        },
        {
         "name": "language_full",
         "rawType": "object",
         "type": "string"
        },
        {
         "name": "avg_rating",
         "rawType": "float64",
         "type": "float"
        },
        {
         "name": "movie_count",
         "rawType": "Int64",
         "type": "integer"
        }
       ],
       "ref": "510f5ef3-3d4d-417f-90f8-f49803cd1d7b",
       "rows": [
        [
         "0",
         "Other",
         "109080.11764930747",
         "1805"
        ],
        [
         "1",
         "English",
         "39608.615791846365",
         "5102"
        ],
        [
         "2",
         "Japanese",
         "59.38569288389513",
         "267"
        ],
        [
         "3",
         "French",
         "50.522937853107344",
         "354"
        ]
       ],
       "shape": {
        "columns": 3,
        "rows": 4
       }
      },
      "text/html": [
       "<div>\n",
       "<style scoped>\n",
       "    .dataframe tbody tr th:only-of-type {\n",
       "        vertical-align: middle;\n",
       "    }\n",
       "\n",
       "    .dataframe tbody tr th {\n",
       "        vertical-align: top;\n",
       "    }\n",
       "\n",
       "    .dataframe thead th {\n",
       "        text-align: right;\n",
       "    }\n",
       "</style>\n",
       "<table border=\"1\" class=\"dataframe\">\n",
       "  <thead>\n",
       "    <tr style=\"text-align: right;\">\n",
       "      <th></th>\n",
       "      <th>language_full</th>\n",
       "      <th>avg_rating</th>\n",
       "      <th>movie_count</th>\n",
       "    </tr>\n",
       "  </thead>\n",
       "  <tbody>\n",
       "    <tr>\n",
       "      <th>0</th>\n",
       "      <td>Other</td>\n",
       "      <td>109080.117649</td>\n",
       "      <td>1805</td>\n",
       "    </tr>\n",
       "    <tr>\n",
       "      <th>1</th>\n",
       "      <td>English</td>\n",
       "      <td>39608.615792</td>\n",
       "      <td>5102</td>\n",
       "    </tr>\n",
       "    <tr>\n",
       "      <th>2</th>\n",
       "      <td>Japanese</td>\n",
       "      <td>59.385693</td>\n",
       "      <td>267</td>\n",
       "    </tr>\n",
       "    <tr>\n",
       "      <th>3</th>\n",
       "      <td>French</td>\n",
       "      <td>50.522938</td>\n",
       "      <td>354</td>\n",
       "    </tr>\n",
       "  </tbody>\n",
       "</table>\n",
       "</div>"
      ],
      "text/plain": [
       "  language_full     avg_rating  movie_count\n",
       "0         Other  109080.117649         1805\n",
       "1       English   39608.615792         5102\n",
       "2      Japanese      59.385693          267\n",
       "3        French      50.522938          354"
      ]
     },
     "execution_count": 16,
     "metadata": {},
     "output_type": "execute_result"
    }
   ],
   "source": [
    "query = \"\"\"\n",
    "SELECT \n",
    "  language_full, \n",
    "  AVG(rating_percent) AS avg_rating, \n",
    "  COUNT(*) AS movie_count\n",
    "FROM `movie-etl-pipeline.movies.cleaned_movies`\n",
    "GROUP BY language_full\n",
    "ORDER BY avg_rating DESC\n",
    "\"\"\"\n",
    "\n",
    "df_lang = client.query(query).to_dataframe()\n",
    "df_lang"
   ]
  },
  {
   "cell_type": "code",
   "execution_count": 17,
   "id": "22b9ac59",
   "metadata": {},
   "outputs": [
    {
     "data": {
      "image/png": "[encoded data removed]",
      "text/plain": [
       "<Figure size 800x600 with 1 Axes>"
      ]
     },
     "metadata": {},
     "output_type": "display_data"
    }
   ],
   "source": [
    "plt.figure(figsize=(8,6))\n",
    "plt.bar(df_lang[\"language_full\"], df_lang[\"avg_rating\"], color=\"skyblue\")\n",
    "plt.title(\"Average Movie Ratings by Language\")\n",
    "plt.xlabel(\"Language\")\n",
    "plt.ylabel(\"Average Rating (%)\")\n",
    "plt.xticks(rotation=45)\n",
    "plt.show()"
   ]
  },
  {
   "cell_type": "code",
   "execution_count": 24,
   "id": "265bb415",
   "metadata": {},
   "outputs": [
    {
     "name": "stderr",
     "output_type": "stream",
     "text": [
      "E0000 00:00:1758823375.150333 2333618 alts_credentials.cc:93] ALTS creds ignored. Not running on GCP and untrusted ALTS is not enabled.\n"
     ]
    },
    {
     "data": {
      "application/vnd.microsoft.datawrangler.viewer.v0+json": {
       "columns": [
        {
         "name": "index",
         "rawType": "int64",
         "type": "integer"
        },
        {
         "name": "release_year",
         "rawType": "Int64",
         "type": "integer"
        },
        {
         "name": "movie_count",
         "rawType": "Int64",
         "type": "integer"
        }
       ],
       "ref": "a156df5a-6139-4997-a9e8-ef360f42ef2c",
       "rows": [
        [
         "0",
         null,
         "39"
        ],
        [
         "1",
         "1900",
         "1"
        ],
        [
         "2",
         "1906",
         "1"
        ],
        [
         "3",
         "1907",
         "1"
        ],
        [
         "4",
         "1908",
         "6"
        ],
        [
         "5",
         "1909",
         "5"
        ],
        [
         "6",
         "1910",
         "2"
        ],
        [
         "7",
         "1911",
         "5"
        ],
        [
         "8",
         "1912",
         "12"
        ],
        [
         "9",
         "1913",
         "6"
        ],
        [
         "10",
         "1914",
         "5"
        ],
        [
         "11",
         "1915",
         "11"
        ],
        [
         "12",
         "1916",
         "7"
        ],
        [
         "13",
         "1917",
         "6"
        ],
        [
         "14",
         "1918",
         "12"
        ],
        [
         "15",
         "1919",
         "5"
        ],
        [
         "16",
         "1920",
         "5"
        ],
        [
         "17",
         "1921",
         "8"
        ],
        [
         "18",
         "1922",
         "3"
        ],
        [
         "19",
         "1923",
         "8"
        ],
        [
         "20",
         "1924",
         "9"
        ],
        [
         "21",
         "1925",
         "12"
        ],
        [
         "22",
         "1926",
         "12"
        ],
        [
         "23",
         "1927",
         "9"
        ],
        [
         "24",
         "1928",
         "11"
        ],
        [
         "25",
         "1929",
         "8"
        ],
        [
         "26",
         "1930",
         "13"
        ],
        [
         "27",
         "1931",
         "11"
        ],
        [
         "28",
         "1932",
         "14"
        ],
        [
         "29",
         "1933",
         "11"
        ],
        [
         "30",
         "1934",
         "11"
        ],
        [
         "31",
         "1935",
         "18"
        ],
        [
         "32",
         "1936",
         "14"
        ],
        [
         "33",
         "1937",
         "17"
        ],
        [
         "34",
         "1938",
         "15"
        ],
        [
         "35",
         "1939",
         "18"
        ],
        [
         "36",
         "1940",
         "21"
        ],
        [
         "37",
         "1941",
         "14"
        ],
        [
         "38",
         "1942",
         "19"
        ],
        [
         "39",
         "1943",
         "17"
        ],
        [
         "40",
         "1944",
         "14"
        ],
        [
         "41",
         "1945",
         "14"
        ],
        [
         "42",
         "1946",
         "15"
        ],
        [
         "43",
         "1947",
         "11"
        ],
        [
         "44",
         "1948",
         "14"
        ],
        [
         "45",
         "1949",
         "10"
        ],
        [
         "46",
         "1950",
         "21"
        ],
        [
         "47",
         "1951",
         "18"
        ],
        [
         "48",
         "1952",
         "8"
        ],
        [
         "49",
         "1953",
         "20"
        ]
       ],
       "shape": {
        "columns": 2,
        "rows": 124
       }
      },
      "text/html": [
       "<div>\n",
       "<style scoped>\n",
       "    .dataframe tbody tr th:only-of-type {\n",
       "        vertical-align: middle;\n",
       "    }\n",
       "\n",
       "    .dataframe tbody tr th {\n",
       "        vertical-align: top;\n",
       "    }\n",
       "\n",
       "    .dataframe thead th {\n",
       "        text-align: right;\n",
       "    }\n",
       "</style>\n",
       "<table border=\"1\" class=\"dataframe\">\n",
       "  <thead>\n",
       "    <tr style=\"text-align: right;\">\n",
       "      <th></th>\n",
       "      <th>release_year</th>\n",
       "      <th>movie_count</th>\n",
       "    </tr>\n",
       "  </thead>\n",
       "  <tbody>\n",
       "    <tr>\n",
       "      <th>0</th>\n",
       "      <td>&lt;NA&gt;</td>\n",
       "      <td>39</td>\n",
       "    </tr>\n",
       "    <tr>\n",
       "      <th>1</th>\n",
       "      <td>1900</td>\n",
       "      <td>1</td>\n",
       "    </tr>\n",
       "    <tr>\n",
       "      <th>2</th>\n",
       "      <td>1906</td>\n",
       "      <td>1</td>\n",
       "    </tr>\n",
       "    <tr>\n",
       "      <th>3</th>\n",
       "      <td>1907</td>\n",
       "      <td>1</td>\n",
       "    </tr>\n",
       "    <tr>\n",
       "      <th>4</th>\n",
       "      <td>1908</td>\n",
       "      <td>6</td>\n",
       "    </tr>\n",
       "    <tr>\n",
       "      <th>...</th>\n",
       "      <td>...</td>\n",
       "      <td>...</td>\n",
       "    </tr>\n",
       "    <tr>\n",
       "      <th>119</th>\n",
       "      <td>2023</td>\n",
       "      <td>325</td>\n",
       "    </tr>\n",
       "    <tr>\n",
       "      <th>120</th>\n",
       "      <td>2024</td>\n",
       "      <td>393</td>\n",
       "    </tr>\n",
       "    <tr>\n",
       "      <th>121</th>\n",
       "      <td>2025</td>\n",
       "      <td>466</td>\n",
       "    </tr>\n",
       "    <tr>\n",
       "      <th>122</th>\n",
       "      <td>2026</td>\n",
       "      <td>16</td>\n",
       "    </tr>\n",
       "    <tr>\n",
       "      <th>123</th>\n",
       "      <td>2027</td>\n",
       "      <td>2</td>\n",
       "    </tr>\n",
       "  </tbody>\n",
       "</table>\n",
       "<p>124 rows × 2 columns</p>\n",
       "</div>"
      ],
      "text/plain": [
       "     release_year  movie_count\n",
       "0            <NA>           39\n",
       "1            1900            1\n",
       "2            1906            1\n",
       "3            1907            1\n",
       "4            1908            6\n",
       "..            ...          ...\n",
       "119          2023          325\n",
       "120          2024          393\n",
       "121          2025          466\n",
       "122          2026           16\n",
       "123          2027            2\n",
       "\n",
       "[124 rows x 2 columns]"
      ]
     },
     "execution_count": 24,
     "metadata": {},
     "output_type": "execute_result"
    }
   ],
   "source": [
    "query = \"\"\"\n",
    "SELECT \n",
    "  release_year, \n",
    "  COUNT(*) AS movie_count\n",
    "FROM `movie-etl-pipeline.movies.cleaned_movies`\n",
    "GROUP BY release_year\n",
    "ORDER BY release_year\n",
    "\"\"\"\n",
    "\n",
    "df1 = client.query(query).to_dataframe()\n",
    "df1\n"
   ]
  },
  {
   "cell_type": "code",
   "execution_count": 25,
   "id": "d32bf244",
   "metadata": {},
   "outputs": [
    {
     "data": {
      "image/png": "[encoded data removed]",
      "text/plain": [
       "<Figure size 1200x600 with 1 Axes>"
      ]
     },
     "metadata": {},
     "output_type": "display_data"
    }
   ],
   "source": [
    "plt.figure(figsize=(12,6))\n",
    "plt.plot(df1[\"release_year\"], df1[\"movie_count\"], marker=\"o\")\n",
    "plt.title(\"Number of Movies by Year\")\n",
    "plt.xlabel(\"Release Year\")\n",
    "plt.ylabel(\"Number of Movies\")\n",
    "plt.grid(True)\n",
    "plt.show()"
   ]
  },
  {
   "cell_type": "code",
   "execution_count": null,
   "id": "efc0b9ee",
   "metadata": {},
   "outputs": [
    {
     "name": "stderr",
     "output_type": "stream",
     "text": [
      "E0000 00:00:1758823534.942171 2333618 alts_credentials.cc:93] ALTS creds ignored. Not running on GCP and untrusted ALTS is not enabled.\n"
     ]
    },
    {
     "data": {
      "application/vnd.microsoft.datawrangler.viewer.v0+json": {
       "columns": [
        {
         "name": "index",
         "rawType": "int64",
         "type": "integer"
        },
        {
         "name": "language_full",
         "rawType": "object",
         "type": "string"
        },
        {
         "name": "f0_",
         "rawType": "float64",
         "type": "float"
        }
       ],
       "ref": "52d84ece-1874-423c-950d-a1ac75451da9",
       "rows": [
        [
         "0",
         "English",
         "39608.615791846365"
        ],
        [
         "1",
         "French",
         "50.522937853107344"
        ],
        [
         "2",
         "Other",
         "109080.11764930747"
        ],
        [
         "3",
         "Japanese",
         "59.38569288389513"
        ]
       ],
       "shape": {
        "columns": 2,
        "rows": 4
       }
      },
      "text/html": [
       "<div>\n",
       "<style scoped>\n",
       "    .dataframe tbody tr th:only-of-type {\n",
       "        vertical-align: middle;\n",
       "    }\n",
       "\n",
       "    .dataframe tbody tr th {\n",
       "        vertical-align: top;\n",
       "    }\n",
       "\n",
       "    .dataframe thead th {\n",
       "        text-align: right;\n",
       "    }\n",
       "</style>\n",
       "<table border=\"1\" class=\"dataframe\">\n",
       "  <thead>\n",
       "    <tr style=\"text-align: right;\">\n",
       "      <th></th>\n",
       "      <th>language_full</th>\n",
       "      <th>f0_</th>\n",
       "    </tr>\n",
       "  </thead>\n",
       "  <tbody>\n",
       "    <tr>\n",
       "      <th>0</th>\n",
       "      <td>English</td>\n",
       "      <td>39608.615792</td>\n",
       "    </tr>\n",
       "    <tr>\n",
       "      <th>1</th>\n",
       "      <td>French</td>\n",
       "      <td>50.522938</td>\n",
       "    </tr>\n",
       "    <tr>\n",
       "      <th>2</th>\n",
       "      <td>Other</td>\n",
       "      <td>109080.117649</td>\n",
       "    </tr>\n",
       "    <tr>\n",
       "      <th>3</th>\n",
       "      <td>Japanese</td>\n",
       "      <td>59.385693</td>\n",
       "    </tr>\n",
       "  </tbody>\n",
       "</table>\n",
       "</div>"
      ],
      "text/plain": [
       "  language_full            f0_\n",
       "0       English   39608.615792\n",
       "1        French      50.522938\n",
       "2         Other  109080.117649\n",
       "3      Japanese      59.385693"
      ]
     },
     "execution_count": 27,
     "metadata": {},
     "output_type": "execute_result"
    }
   ],
   "source": [
    "query = \"\"\"\n",
    "SELECT language_full, AVG(rating_percent) as average_rating\n",
    "FROM `movie-etl-pipeline.movies.cleaned_movies`\n",
    "GROUP BY language_full\n",
    "\"\"\"\n",
    "\n",
    "df2 = client.query(query).to_dataframe()\n",
    "df2\n",
    "\n",
    "\n"
   ]
  },
  {
   "cell_type": "code",
   "execution_count": 33,
   "id": "811fbe65",
   "metadata": {},
   "outputs": [
    {
     "data": {
      "image/png": "[encoded data removed]",
      "text/plain": [
       "<Figure size 1000x600 with 1 Axes>"
      ]
     },
     "metadata": {},
     "output_type": "display_data"
    }
   ],
   "source": [
    "plt.figure(figsize=(10,6))\n",
    "plt.bar(df2[\"language_full\"], df2[\"f0_\"], color=\"skyblue\")\n",
    "plt.title(\"Average Rating Percent by Language\")\n",
    "plt.xlabel(\"Language\")\n",
    "plt.ylabel(\"Average Rating (%)\")\n",
    "plt.xticks(rotation=45)\n",
    "plt.show()\n"
   ]
  },
  {
   "cell_type": "code",
   "execution_count": 34,
   "id": "46697a98",
   "metadata": {},
   "outputs": [
    {
     "name": "stderr",
     "output_type": "stream",
     "text": [
      "E0000 00:00:1758823998.674777 2333618 alts_credentials.cc:93] ALTS creds ignored. Not running on GCP and untrusted ALTS is not enabled.\n"
     ]
    },
    {
     "data": {
      "application/vnd.microsoft.datawrangler.viewer.v0+json": {
       "columns": [
        {
         "name": "index",
         "rawType": "int64",
         "type": "integer"
        },
        {
         "name": "release_year",
         "rawType": "Int64",
         "type": "integer"
        },
        {
         "name": "f0_",
         "rawType": "float64",
         "type": "float"
        }
       ],
       "ref": "c8ab2d5f-aac2-4ffd-b8c9-ac99067a9574",
       "rows": [
        [
         "0",
         "2001",
         "58.07499999999999"
        ],
        [
         "1",
         "2002",
         "61.4663953488372"
        ],
        [
         "2",
         "2003",
         "55.65742268041238"
        ],
        [
         "3",
         "2004",
         "59.956868686868695"
        ],
        [
         "4",
         "2005",
         "55.540159999999986"
        ],
        [
         "5",
         "2006",
         "57.06306451612904"
        ],
        [
         "6",
         "2007",
         "56.41150943396227"
        ],
        [
         "7",
         "2008",
         "55.349911504424774"
        ],
        [
         "8",
         "2009",
         "56.47282442748092"
        ],
        [
         "9",
         "2010",
         "57.619343065693435"
        ],
        [
         "10",
         "2011",
         "58.147215189873435"
        ],
        [
         "11",
         "2012",
         "55.36701657458565"
        ],
        [
         "12",
         "2013",
         "57.09692737430169"
        ],
        [
         "13",
         "2014",
         "53.77554404145079"
        ],
        [
         "14",
         "2015",
         "51.8684065934066"
        ],
        [
         "15",
         "2016",
         "56.88309523809523"
        ],
        [
         "16",
         "2017",
         "58.45034782608695"
        ],
        [
         "17",
         "2018",
         "56.972911877394644"
        ],
        [
         "18",
         "2019",
         "58.14430379746833"
        ],
        [
         "19",
         "2020",
         "57.08999999999999"
        ],
        [
         "20",
         "2021",
         "60.537149321266995"
        ],
        [
         "21",
         "2022",
         "56.608470149253726"
        ],
        [
         "22",
         "2023",
         "58.08150769230763"
        ],
        [
         "23",
         "2024",
         "58.58259541984739"
        ],
        [
         "24",
         "2025",
         "57.199377682403465"
        ],
        [
         "25",
         "2026",
         "0.0"
        ],
        [
         "26",
         "2027",
         "0.0"
        ]
       ],
       "shape": {
        "columns": 2,
        "rows": 27
       }
      },
      "text/html": [
       "<div>\n",
       "<style scoped>\n",
       "    .dataframe tbody tr th:only-of-type {\n",
       "        vertical-align: middle;\n",
       "    }\n",
       "\n",
       "    .dataframe tbody tr th {\n",
       "        vertical-align: top;\n",
       "    }\n",
       "\n",
       "    .dataframe thead th {\n",
       "        text-align: right;\n",
       "    }\n",
       "</style>\n",
       "<table border=\"1\" class=\"dataframe\">\n",
       "  <thead>\n",
       "    <tr style=\"text-align: right;\">\n",
       "      <th></th>\n",
       "      <th>release_year</th>\n",
       "      <th>f0_</th>\n",
       "    </tr>\n",
       "  </thead>\n",
       "  <tbody>\n",
       "    <tr>\n",
       "      <th>0</th>\n",
       "      <td>2001</td>\n",
       "      <td>58.075000</td>\n",
       "    </tr>\n",
       "    <tr>\n",
       "      <th>1</th>\n",
       "      <td>2002</td>\n",
       "      <td>61.466395</td>\n",
       "    </tr>\n",
       "    <tr>\n",
       "      <th>2</th>\n",
       "      <td>2003</td>\n",
       "      <td>55.657423</td>\n",
       "    </tr>\n",
       "    <tr>\n",
       "      <th>3</th>\n",
       "      <td>2004</td>\n",
       "      <td>59.956869</td>\n",
       "    </tr>\n",
       "    <tr>\n",
       "      <th>4</th>\n",
       "      <td>2005</td>\n",
       "      <td>55.540160</td>\n",
       "    </tr>\n",
       "    <tr>\n",
       "      <th>5</th>\n",
       "      <td>2006</td>\n",
       "      <td>57.063065</td>\n",
       "    </tr>\n",
       "    <tr>\n",
       "      <th>6</th>\n",
       "      <td>2007</td>\n",
       "      <td>56.411509</td>\n",
       "    </tr>\n",
       "    <tr>\n",
       "      <th>7</th>\n",
       "      <td>2008</td>\n",
       "      <td>55.349912</td>\n",
       "    </tr>\n",
       "    <tr>\n",
       "      <th>8</th>\n",
       "      <td>2009</td>\n",
       "      <td>56.472824</td>\n",
       "    </tr>\n",
       "    <tr>\n",
       "      <th>9</th>\n",
       "      <td>2010</td>\n",
       "      <td>57.619343</td>\n",
       "    </tr>\n",
       "    <tr>\n",
       "      <th>10</th>\n",
       "      <td>2011</td>\n",
       "      <td>58.147215</td>\n",
       "    </tr>\n",
       "    <tr>\n",
       "      <th>11</th>\n",
       "      <td>2012</td>\n",
       "      <td>55.367017</td>\n",
       "    </tr>\n",
       "    <tr>\n",
       "      <th>12</th>\n",
       "      <td>2013</td>\n",
       "      <td>57.096927</td>\n",
       "    </tr>\n",
       "    <tr>\n",
       "      <th>13</th>\n",
       "      <td>2014</td>\n",
       "      <td>53.775544</td>\n",
       "    </tr>\n",
       "    <tr>\n",
       "      <th>14</th>\n",
       "      <td>2015</td>\n",
       "      <td>51.868407</td>\n",
       "    </tr>\n",
       "    <tr>\n",
       "      <th>15</th>\n",
       "      <td>2016</td>\n",
       "      <td>56.883095</td>\n",
       "    </tr>\n",
       "    <tr>\n",
       "      <th>16</th>\n",
       "      <td>2017</td>\n",
       "      <td>58.450348</td>\n",
       "    </tr>\n",
       "    <tr>\n",
       "      <th>17</th>\n",
       "      <td>2018</td>\n",
       "      <td>56.972912</td>\n",
       "    </tr>\n",
       "    <tr>\n",
       "      <th>18</th>\n",
       "      <td>2019</td>\n",
       "      <td>58.144304</td>\n",
       "    </tr>\n",
       "    <tr>\n",
       "      <th>19</th>\n",
       "      <td>2020</td>\n",
       "      <td>57.090000</td>\n",
       "    </tr>\n",
       "    <tr>\n",
       "      <th>20</th>\n",
       "      <td>2021</td>\n",
       "      <td>60.537149</td>\n",
       "    </tr>\n",
       "    <tr>\n",
       "      <th>21</th>\n",
       "      <td>2022</td>\n",
       "      <td>56.608470</td>\n",
       "    </tr>\n",
       "    <tr>\n",
       "      <th>22</th>\n",
       "      <td>2023</td>\n",
       "      <td>58.081508</td>\n",
       "    </tr>\n",
       "    <tr>\n",
       "      <th>23</th>\n",
       "      <td>2024</td>\n",
       "      <td>58.582595</td>\n",
       "    </tr>\n",
       "    <tr>\n",
       "      <th>24</th>\n",
       "      <td>2025</td>\n",
       "      <td>57.199378</td>\n",
       "    </tr>\n",
       "    <tr>\n",
       "      <th>25</th>\n",
       "      <td>2026</td>\n",
       "      <td>0.000000</td>\n",
       "    </tr>\n",
       "    <tr>\n",
       "      <th>26</th>\n",
       "      <td>2027</td>\n",
       "      <td>0.000000</td>\n",
       "    </tr>\n",
       "  </tbody>\n",
       "</table>\n",
       "</div>"
      ],
      "text/plain": [
       "    release_year        f0_\n",
       "0           2001  58.075000\n",
       "1           2002  61.466395\n",
       "2           2003  55.657423\n",
       "3           2004  59.956869\n",
       "4           2005  55.540160\n",
       "5           2006  57.063065\n",
       "6           2007  56.411509\n",
       "7           2008  55.349912\n",
       "8           2009  56.472824\n",
       "9           2010  57.619343\n",
       "10          2011  58.147215\n",
       "11          2012  55.367017\n",
       "12          2013  57.096927\n",
       "13          2014  53.775544\n",
       "14          2015  51.868407\n",
       "15          2016  56.883095\n",
       "16          2017  58.450348\n",
       "17          2018  56.972912\n",
       "18          2019  58.144304\n",
       "19          2020  57.090000\n",
       "20          2021  60.537149\n",
       "21          2022  56.608470\n",
       "22          2023  58.081508\n",
       "23          2024  58.582595\n",
       "24          2025  57.199378\n",
       "25          2026   0.000000\n",
       "26          2027   0.000000"
      ]
     },
     "execution_count": 34,
     "metadata": {},
     "output_type": "execute_result"
    }
   ],
   "source": [
    "query = \"\"\"\n",
    "SELECT release_year, AVG(rating_percent)\n",
    "FROM `movie-etl-pipeline.movies.cleaned_movies`\n",
    "WHERE release_year > 2000\n",
    "GROUP BY release_year\n",
    "\"\"\"\n",
    "\n",
    "df3 = client.query(query).to_dataframe()\n",
    "df3"
   ]
  },
  {
   "cell_type": "code",
   "execution_count": 35,
   "id": "6606da28",
   "metadata": {},
   "outputs": [
    {
     "data": {
      "image/png": "[encoded data removed]",
      "text/plain": [
       "<Figure size 1200x600 with 1 Axes>"
      ]
     },
     "metadata": {},
     "output_type": "display_data"
    }
   ],
   "source": [
    "plt.figure(figsize=(12,6))\n",
    "plt.plot(df3[\"release_year\"], df3[\"f0_\"], marker=\"o\", linestyle=\"-\", color=\"teal\")\n",
    "plt.title(\"Average Rating Percent by Release Year (After 2000)\")\n",
    "plt.xlabel(\"Release Year\")\n",
    "plt.ylabel(\"Average Rating (%)\")\n",
    "plt.grid(True, linestyle=\"--\", alpha=0.6)\n",
    "plt.show()"
   ]
  },
  {
   "cell_type": "code",
   "execution_count": 43,
   "id": "6367f9c1",
   "metadata": {},
   "outputs": [
    {
     "name": "stderr",
     "output_type": "stream",
     "text": [
      "E0000 00:00:1758824618.294927 2333618 alts_credentials.cc:93] ALTS creds ignored. Not running on GCP and untrusted ALTS is not enabled.\n"
     ]
    },
    {
     "data": {
      "application/vnd.microsoft.datawrangler.viewer.v0+json": {
       "columns": [
        {
         "name": "index",
         "rawType": "int64",
         "type": "integer"
        },
        {
         "name": "popularity_bucket",
         "rawType": "object",
         "type": "string"
        },
        {
         "name": "average_rating",
         "rawType": "float64",
         "type": "float"
        }
       ],
       "ref": "61d304e6-202f-40b2-82bd-3d892cc151c0",
       "rows": [
        [
         "0",
         "High",
         "4484537.622666667"
        ]
       ],
       "shape": {
        "columns": 2,
        "rows": 1
       }
      },
      "text/html": [
       "<div>\n",
       "<style scoped>\n",
       "    .dataframe tbody tr th:only-of-type {\n",
       "        vertical-align: middle;\n",
       "    }\n",
       "\n",
       "    .dataframe tbody tr th {\n",
       "        vertical-align: top;\n",
       "    }\n",
       "\n",
       "    .dataframe thead th {\n",
       "        text-align: right;\n",
       "    }\n",
       "</style>\n",
       "<table border=\"1\" class=\"dataframe\">\n",
       "  <thead>\n",
       "    <tr style=\"text-align: right;\">\n",
       "      <th></th>\n",
       "      <th>popularity_bucket</th>\n",
       "      <th>average_rating</th>\n",
       "    </tr>\n",
       "  </thead>\n",
       "  <tbody>\n",
       "    <tr>\n",
       "      <th>0</th>\n",
       "      <td>High</td>\n",
       "      <td>4.484538e+06</td>\n",
       "    </tr>\n",
       "  </tbody>\n",
       "</table>\n",
       "</div>"
      ],
      "text/plain": [
       "  popularity_bucket  average_rating\n",
       "0              High    4.484538e+06"
      ]
     },
     "execution_count": 43,
     "metadata": {},
     "output_type": "execute_result"
    }
   ],
   "source": [
    "\n",
    "query = \"\"\"\n",
    "(SELECT popularity_bucket, AVG(rating_percent) as average_rating FROM `movie-etl-pipeline.movies.cleaned_movies`\n",
    "GROUP BY popularity_bucket) as m\n",
    "ORDER BY average_rating DESC \n",
    "LIMIT 1;\n",
    "\"\"\"\n",
    "df4 = client.query(query).to_dataframe()\n",
    "df4"
   ]
  },
  {
   "cell_type": "code",
   "execution_count": 47,
   "id": "b76e4093",
   "metadata": {},
   "outputs": [
    {
     "data": {
      "image/png": "[encoded data removed]",
      "text/plain": [
       "<Figure size 600x400 with 1 Axes>"
      ]
     },
     "metadata": {},
     "output_type": "display_data"
    }
   ],
   "source": [
    "plt.figure(figsize=(6,4))\n",
    "plt.bar(df4[\"popularity_bucket\"], df4[\"average_rating\"], color=\"green\")\n",
    "plt.title(\"Highest Average Rating by Popularity Bucket\")\n",
    "plt.xlabel(\"Popularity Bucket\")\n",
    "plt.ylabel(\"Average Rating (%)\")\n",
    "plt.show()"
   ]
  },
  {
   "cell_type": "code",
   "execution_count": 50,
   "id": "4cfc31e7",
   "metadata": {},
   "outputs": [
    {
     "name": "stderr",
     "output_type": "stream",
     "text": [
      "E0000 00:00:1758825003.953000 2333618 alts_credentials.cc:93] ALTS creds ignored. Not running on GCP and untrusted ALTS is not enabled.\n"
     ]
    },
    {
     "data": {
      "application/vnd.microsoft.datawrangler.viewer.v0+json": {
       "columns": [
        {
         "name": "index",
         "rawType": "int64",
         "type": "integer"
        },
        {
         "name": "decade",
         "rawType": "float64",
         "type": "float"
        },
        {
         "name": "avg_rating",
         "rawType": "float64",
         "type": "float"
        }
       ],
       "ref": "4c109cff-63df-475d-9ad6-e856be237ab9",
       "rows": [
        [
         "0",
         "1900.0",
         "34.214285714285715"
        ],
        [
         "1",
         "1910.0",
         "14.63380281690141"
        ],
        [
         "2",
         "1920.0",
         "25.198588235294118"
        ],
        [
         "3",
         "1930.0",
         "38.51204225352111"
        ],
        [
         "4",
         "1940.0",
         "44.98570469798657"
        ],
        [
         "5",
         "1950.0",
         "49.71586387434554"
        ],
        [
         "6",
         "1960.0",
         "47.06108013937285"
        ],
        [
         "7",
         "1970.0",
         "45.60131367292225"
        ],
        [
         "8",
         "1980.0",
         "49.80147410358564"
        ],
        [
         "9",
         "1990.0",
         "54.16815899581586"
        ],
        [
         "10",
         "2000.0",
         "56.84093525179863"
        ],
        [
         "11",
         "2010.0",
         "56.49429878048779"
        ],
        [
         "12",
         "2020.0",
         "57.3908253461129"
        ]
       ],
       "shape": {
        "columns": 2,
        "rows": 13
       }
      },
      "text/html": [
       "<div>\n",
       "<style scoped>\n",
       "    .dataframe tbody tr th:only-of-type {\n",
       "        vertical-align: middle;\n",
       "    }\n",
       "\n",
       "    .dataframe tbody tr th {\n",
       "        vertical-align: top;\n",
       "    }\n",
       "\n",
       "    .dataframe thead th {\n",
       "        text-align: right;\n",
       "    }\n",
       "</style>\n",
       "<table border=\"1\" class=\"dataframe\">\n",
       "  <thead>\n",
       "    <tr style=\"text-align: right;\">\n",
       "      <th></th>\n",
       "      <th>decade</th>\n",
       "      <th>avg_rating</th>\n",
       "    </tr>\n",
       "  </thead>\n",
       "  <tbody>\n",
       "    <tr>\n",
       "      <th>0</th>\n",
       "      <td>1900.0</td>\n",
       "      <td>34.214286</td>\n",
       "    </tr>\n",
       "    <tr>\n",
       "      <th>1</th>\n",
       "      <td>1910.0</td>\n",
       "      <td>14.633803</td>\n",
       "    </tr>\n",
       "    <tr>\n",
       "      <th>2</th>\n",
       "      <td>1920.0</td>\n",
       "      <td>25.198588</td>\n",
       "    </tr>\n",
       "    <tr>\n",
       "      <th>3</th>\n",
       "      <td>1930.0</td>\n",
       "      <td>38.512042</td>\n",
       "    </tr>\n",
       "    <tr>\n",
       "      <th>4</th>\n",
       "      <td>1940.0</td>\n",
       "      <td>44.985705</td>\n",
       "    </tr>\n",
       "    <tr>\n",
       "      <th>5</th>\n",
       "      <td>1950.0</td>\n",
       "      <td>49.715864</td>\n",
       "    </tr>\n",
       "    <tr>\n",
       "      <th>6</th>\n",
       "      <td>1960.0</td>\n",
       "      <td>47.061080</td>\n",
       "    </tr>\n",
       "    <tr>\n",
       "      <th>7</th>\n",
       "      <td>1970.0</td>\n",
       "      <td>45.601314</td>\n",
       "    </tr>\n",
       "    <tr>\n",
       "      <th>8</th>\n",
       "      <td>1980.0</td>\n",
       "      <td>49.801474</td>\n",
       "    </tr>\n",
       "    <tr>\n",
       "      <th>9</th>\n",
       "      <td>1990.0</td>\n",
       "      <td>54.168159</td>\n",
       "    </tr>\n",
       "    <tr>\n",
       "      <th>10</th>\n",
       "      <td>2000.0</td>\n",
       "      <td>56.840935</td>\n",
       "    </tr>\n",
       "    <tr>\n",
       "      <th>11</th>\n",
       "      <td>2010.0</td>\n",
       "      <td>56.494299</td>\n",
       "    </tr>\n",
       "    <tr>\n",
       "      <th>12</th>\n",
       "      <td>2020.0</td>\n",
       "      <td>57.390825</td>\n",
       "    </tr>\n",
       "  </tbody>\n",
       "</table>\n",
       "</div>"
      ],
      "text/plain": [
       "    decade  avg_rating\n",
       "0   1900.0   34.214286\n",
       "1   1910.0   14.633803\n",
       "2   1920.0   25.198588\n",
       "3   1930.0   38.512042\n",
       "4   1940.0   44.985705\n",
       "5   1950.0   49.715864\n",
       "6   1960.0   47.061080\n",
       "7   1970.0   45.601314\n",
       "8   1980.0   49.801474\n",
       "9   1990.0   54.168159\n",
       "10  2000.0   56.840935\n",
       "11  2010.0   56.494299\n",
       "12  2020.0   57.390825"
      ]
     },
     "execution_count": 50,
     "metadata": {},
     "output_type": "execute_result"
    }
   ],
   "source": [
    "query = \"\"\"\n",
    "SELECT \n",
    "  FLOOR(release_year/10)*10 AS decade,\n",
    "  AVG(rating_percent) AS avg_rating\n",
    "FROM `movie-etl-pipeline.movies.cleaned_movies`\n",
    "WHERE release_year IS NOT NULL\n",
    "GROUP BY decade\n",
    "ORDER BY decade;\n",
    "\"\"\"\n",
    "\n",
    "df5 = client.query(query).to_dataframe()\n",
    "df5\n"
   ]
  },
  {
   "cell_type": "code",
   "execution_count": 54,
   "id": "4d7b6d7b",
   "metadata": {},
   "outputs": [
    {
     "data": {
      "image/png": "[encoded data removed]",
      "text/plain": [
       "<Figure size 1000x600 with 1 Axes>"
      ]
     },
     "metadata": {},
     "output_type": "display_data"
    }
   ],
   "source": [
    "plt.figure(figsize=(10,6))\n",
    "plt.plot(df5[\"decade\"], df5[\"avg_rating\"], marker=\"o\", color=\"teal\")\n",
    "plt.title(\"Average Rating Percent by Decade\")\n",
    "plt.xlabel(\"Decade\")\n",
    "plt.ylabel(\"Average Rating (%)\")\n",
    "plt.xticks(rotation=45)\n",
    "plt.grid(True, linestyle=\"--\", alpha=0.6)\n",
    "plt.show()"
   ]
  },
  {
   "cell_type": "code",
   "execution_count": 57,
   "id": "939dc108",
   "metadata": {},
   "outputs": [
    {
     "name": "stderr",
     "output_type": "stream",
     "text": [
      "E0000 00:00:1758825161.624316 2333618 alts_credentials.cc:93] ALTS creds ignored. Not running on GCP and untrusted ALTS is not enabled.\n"
     ]
    },
    {
     "data": {
      "application/vnd.microsoft.datawrangler.viewer.v0+json": {
       "columns": [
        {
         "name": "index",
         "rawType": "int64",
         "type": "integer"
        },
        {
         "name": "decade",
         "rawType": "float64",
         "type": "float"
        },
        {
         "name": "f0_",
         "rawType": "Int64",
         "type": "integer"
        }
       ],
       "ref": "50817986-7480-4e0e-835a-f5ce5e66d76a",
       "rows": [
        [
         "0",
         "2020.0",
         "1878"
        ],
        [
         "1",
         "2010.0",
         "1968"
        ],
        [
         "2",
         "2000.0",
         "1112"
        ],
        [
         "3",
         "1990.0",
         "717"
        ],
        [
         "4",
         "1980.0",
         "502"
        ],
        [
         "5",
         "1970.0",
         "373"
        ],
        [
         "6",
         "1960.0",
         "287"
        ],
        [
         "7",
         "1950.0",
         "191"
        ],
        [
         "8",
         "1940.0",
         "149"
        ],
        [
         "9",
         "1930.0",
         "142"
        ],
        [
         "10",
         "1920.0",
         "85"
        ],
        [
         "11",
         "1910.0",
         "71"
        ],
        [
         "12",
         "1900.0",
         "14"
        ],
        [
         "13",
         null,
         "39"
        ]
       ],
       "shape": {
        "columns": 2,
        "rows": 14
       }
      },
      "text/html": [
       "<div>\n",
       "<style scoped>\n",
       "    .dataframe tbody tr th:only-of-type {\n",
       "        vertical-align: middle;\n",
       "    }\n",
       "\n",
       "    .dataframe tbody tr th {\n",
       "        vertical-align: top;\n",
       "    }\n",
       "\n",
       "    .dataframe thead th {\n",
       "        text-align: right;\n",
       "    }\n",
       "</style>\n",
       "<table border=\"1\" class=\"dataframe\">\n",
       "  <thead>\n",
       "    <tr style=\"text-align: right;\">\n",
       "      <th></th>\n",
       "      <th>decade</th>\n",
       "      <th>f0_</th>\n",
       "    </tr>\n",
       "  </thead>\n",
       "  <tbody>\n",
       "    <tr>\n",
       "      <th>0</th>\n",
       "      <td>2020.0</td>\n",
       "      <td>1878</td>\n",
       "    </tr>\n",
       "    <tr>\n",
       "      <th>1</th>\n",
       "      <td>2010.0</td>\n",
       "      <td>1968</td>\n",
       "    </tr>\n",
       "    <tr>\n",
       "      <th>2</th>\n",
       "      <td>2000.0</td>\n",
       "      <td>1112</td>\n",
       "    </tr>\n",
       "    <tr>\n",
       "      <th>3</th>\n",
       "      <td>1990.0</td>\n",
       "      <td>717</td>\n",
       "    </tr>\n",
       "    <tr>\n",
       "      <th>4</th>\n",
       "      <td>1980.0</td>\n",
       "      <td>502</td>\n",
       "    </tr>\n",
       "    <tr>\n",
       "      <th>5</th>\n",
       "      <td>1970.0</td>\n",
       "      <td>373</td>\n",
       "    </tr>\n",
       "    <tr>\n",
       "      <th>6</th>\n",
       "      <td>1960.0</td>\n",
       "      <td>287</td>\n",
       "    </tr>\n",
       "    <tr>\n",
       "      <th>7</th>\n",
       "      <td>1950.0</td>\n",
       "      <td>191</td>\n",
       "    </tr>\n",
       "    <tr>\n",
       "      <th>8</th>\n",
       "      <td>1940.0</td>\n",
       "      <td>149</td>\n",
       "    </tr>\n",
       "    <tr>\n",
       "      <th>9</th>\n",
       "      <td>1930.0</td>\n",
       "      <td>142</td>\n",
       "    </tr>\n",
       "    <tr>\n",
       "      <th>10</th>\n",
       "      <td>1920.0</td>\n",
       "      <td>85</td>\n",
       "    </tr>\n",
       "    <tr>\n",
       "      <th>11</th>\n",
       "      <td>1910.0</td>\n",
       "      <td>71</td>\n",
       "    </tr>\n",
       "    <tr>\n",
       "      <th>12</th>\n",
       "      <td>1900.0</td>\n",
       "      <td>14</td>\n",
       "    </tr>\n",
       "    <tr>\n",
       "      <th>13</th>\n",
       "      <td>NaN</td>\n",
       "      <td>39</td>\n",
       "    </tr>\n",
       "  </tbody>\n",
       "</table>\n",
       "</div>"
      ],
      "text/plain": [
       "    decade   f0_\n",
       "0   2020.0  1878\n",
       "1   2010.0  1968\n",
       "2   2000.0  1112\n",
       "3   1990.0   717\n",
       "4   1980.0   502\n",
       "5   1970.0   373\n",
       "6   1960.0   287\n",
       "7   1950.0   191\n",
       "8   1940.0   149\n",
       "9   1930.0   142\n",
       "10  1920.0    85\n",
       "11  1910.0    71\n",
       "12  1900.0    14\n",
       "13     NaN    39"
      ]
     },
     "execution_count": 57,
     "metadata": {},
     "output_type": "execute_result"
    }
   ],
   "source": [
    "query = \"\"\"\n",
    "SELECT FLOOR(release_year/10)*10 AS decade, COUNT(*)\n",
    "FROM `movie-etl-pipeline.movies.cleaned_movies`\n",
    "GROUP BY decade\n",
    "ORDER BY decade DESC\n",
    "\"\"\"\n",
    "\n",
    "df6 = client.query(query).to_dataframe()\n",
    "df6\n"
   ]
  },
  {
   "cell_type": "code",
   "execution_count": null,
   "id": "0cc1130d",
   "metadata": {},
   "outputs": [
    {
     "data": {
      "image/png": "[encoded data removed]",
      "text/plain": [
       "<Figure size 1000x600 with 1 Axes>"
      ]
     },
     "metadata": {},
     "output_type": "display_data"
    }
   ],
   "source": [
    "plt.figure(figsize=(10,6))\n",
    "plt.bar(df6[\"decade\"].astype(str), df6[\"f0_\"], color=\"orange\")\n",
    "plt.title(\"Number of Movies per Decade\")\n",
    "plt.xlabel(\"Decade\")\n",
    "plt.ylabel(\"Number of Movies\")\n",
    "plt.xticks(rotation=45)\n",
    "plt.show()"
   ]
  },
  {
   "cell_type": "code",
   "execution_count": 62,
   "id": "e0cce4ed",
   "metadata": {},
   "outputs": [
    {
     "name": "stderr",
     "output_type": "stream",
     "text": [
      "E0000 00:00:1758826560.844742 2333618 alts_credentials.cc:93] ALTS creds ignored. Not running on GCP and untrusted ALTS is not enabled.\n"
     ]
    },
    {
     "data": {
      "application/vnd.microsoft.datawrangler.viewer.v0+json": {
       "columns": [
        {
         "name": "index",
         "rawType": "int64",
         "type": "integer"
        },
        {
         "name": "language_full",
         "rawType": "object",
         "type": "string"
        },
        {
         "name": "total_movies",
         "rawType": "Int64",
         "type": "integer"
        },
        {
         "name": "average_rating",
         "rawType": "float64",
         "type": "float"
        }
       ],
       "ref": "bae17bd9-6b73-40c9-99f0-579b2316f489",
       "rows": [
        [
         "0",
         "French",
         "354",
         "50.522937853107344"
        ],
        [
         "1",
         "Japanese",
         "267",
         "59.38569288389513"
        ],
        [
         "2",
         "English",
         "5102",
         "39608.615791846365"
        ],
        [
         "3",
         "Other",
         "1805",
         "109080.11764930747"
        ]
       ],
       "shape": {
        "columns": 3,
        "rows": 4
       }
      },
      "text/html": [
       "<div>\n",
       "<style scoped>\n",
       "    .dataframe tbody tr th:only-of-type {\n",
       "        vertical-align: middle;\n",
       "    }\n",
       "\n",
       "    .dataframe tbody tr th {\n",
       "        vertical-align: top;\n",
       "    }\n",
       "\n",
       "    .dataframe thead th {\n",
       "        text-align: right;\n",
       "    }\n",
       "</style>\n",
       "<table border=\"1\" class=\"dataframe\">\n",
       "  <thead>\n",
       "    <tr style=\"text-align: right;\">\n",
       "      <th></th>\n",
       "      <th>language_full</th>\n",
       "      <th>total_movies</th>\n",
       "      <th>average_rating</th>\n",
       "    </tr>\n",
       "  </thead>\n",
       "  <tbody>\n",
       "    <tr>\n",
       "      <th>0</th>\n",
       "      <td>French</td>\n",
       "      <td>354</td>\n",
       "      <td>50.522938</td>\n",
       "    </tr>\n",
       "    <tr>\n",
       "      <th>1</th>\n",
       "      <td>Japanese</td>\n",
       "      <td>267</td>\n",
       "      <td>59.385693</td>\n",
       "    </tr>\n",
       "    <tr>\n",
       "      <th>2</th>\n",
       "      <td>English</td>\n",
       "      <td>5102</td>\n",
       "      <td>39608.615792</td>\n",
       "    </tr>\n",
       "    <tr>\n",
       "      <th>3</th>\n",
       "      <td>Other</td>\n",
       "      <td>1805</td>\n",
       "      <td>109080.117649</td>\n",
       "    </tr>\n",
       "  </tbody>\n",
       "</table>\n",
       "</div>"
      ],
      "text/plain": [
       "  language_full  total_movies  average_rating\n",
       "0        French           354       50.522938\n",
       "1      Japanese           267       59.385693\n",
       "2       English          5102    39608.615792\n",
       "3         Other          1805   109080.117649"
      ]
     },
     "execution_count": 62,
     "metadata": {},
     "output_type": "execute_result"
    }
   ],
   "source": [
    "query = \"\"\"\n",
    "SELECT language_full, COUNT(*) AS total_movies, AVG(rating_percent) AS average_rating\n",
    "FROM `movie-etl-pipeline.movies.cleaned_movies`\n",
    "GROUP BY language_full\n",
    "ORDER BY AVG(rating_percent), language_full DESC\n",
    "\"\"\"\n",
    "\n",
    "df7 = client.query(query).to_dataframe()\n",
    "df7\n"
   ]
  },
  {
   "cell_type": "code",
   "execution_count": 63,
   "id": "a8bf98bf",
   "metadata": {},
   "outputs": [
    {
     "data": {
      "image/png": "[encoded data removed]",
      "text/plain": [
       "<Figure size 1000x600 with 1 Axes>"
      ]
     },
     "metadata": {},
     "output_type": "display_data"
    }
   ],
   "source": [
    "plt.figure(figsize=(10,6))\n",
    "plt.scatter(df7[\"total_movies\"], df7[\"average_rating\"], s=100, color=\"skyblue\", edgecolor=\"black\")\n",
    "\n",
    "for i, txt in enumerate(df7[\"language_full\"]):\n",
    "    plt.annotate(txt, (df7[\"total_movies\"][i], df7[\"average_rating\"][i]), fontsize=9, xytext=(5,5), textcoords=\"offset points\")\n",
    "\n",
    "plt.title(\"Average Rating vs. Total Movies by Language\")\n",
    "plt.xlabel(\"Total Movies\")\n",
    "plt.ylabel(\"Average Rating (%)\")\n",
    "plt.grid(True, linestyle=\"--\", alpha=0.6)\n",
    "plt.show()\n"
   ]
  },
  {
   "cell_type": "code",
   "execution_count": 64,
   "id": "f2f111d1",
   "metadata": {},
   "outputs": [
    {
     "name": "stderr",
     "output_type": "stream",
     "text": [
      "E0000 00:00:1758827037.981661 2333618 alts_credentials.cc:93] ALTS creds ignored. Not running on GCP and untrusted ALTS is not enabled.\n"
     ]
    },
    {
     "data": {
      "application/vnd.microsoft.datawrangler.viewer.v0+json": {
       "columns": [
        {
         "name": "index",
         "rawType": "int64",
         "type": "integer"
        },
        {
         "name": "language_full",
         "rawType": "object",
         "type": "string"
        },
        {
         "name": "average_rating",
         "rawType": "float64",
         "type": "float"
        }
       ],
       "ref": "4bba8ac3-c365-438a-85a2-d14d4a009c7d",
       "rows": [
        [
         "0",
         "Japanese",
         "65.733850931677"
        ]
       ],
       "shape": {
        "columns": 2,
        "rows": 1
       }
      },
      "text/html": [
       "<div>\n",
       "<style scoped>\n",
       "    .dataframe tbody tr th:only-of-type {\n",
       "        vertical-align: middle;\n",
       "    }\n",
       "\n",
       "    .dataframe tbody tr th {\n",
       "        vertical-align: top;\n",
       "    }\n",
       "\n",
       "    .dataframe thead th {\n",
       "        text-align: right;\n",
       "    }\n",
       "</style>\n",
       "<table border=\"1\" class=\"dataframe\">\n",
       "  <thead>\n",
       "    <tr style=\"text-align: right;\">\n",
       "      <th></th>\n",
       "      <th>language_full</th>\n",
       "      <th>average_rating</th>\n",
       "    </tr>\n",
       "  </thead>\n",
       "  <tbody>\n",
       "    <tr>\n",
       "      <th>0</th>\n",
       "      <td>Japanese</td>\n",
       "      <td>65.733851</td>\n",
       "    </tr>\n",
       "  </tbody>\n",
       "</table>\n",
       "</div>"
      ],
      "text/plain": [
       "  language_full  average_rating\n",
       "0      Japanese       65.733851"
      ]
     },
     "execution_count": 64,
     "metadata": {},
     "output_type": "execute_result"
    }
   ],
   "source": [
    "query = \"\"\"\n",
    "\n",
    "SELECT language_full, AVG(rating_percent) AS average_rating\n",
    "FROM `movie-etl-pipeline.movies.cleaned_movies`\n",
    "Where release_year > 2000\n",
    "GROUP BY language_full\n",
    "ORDER BY average_rating DESC \n",
    "LIMIT 1\n",
    "\n",
    "\"\"\"\n",
    "\n",
    "df8 = client.query(query).to_dataframe()\n",
    "df8\n"
   ]
  },
  {
   "cell_type": "code",
   "execution_count": null,
   "id": "e89f1e0f",
   "metadata": {},
   "outputs": [
    {
     "data": {
      "image/png": "[encoded data removed]",
      "text/plain": [
       "<Figure size 600x400 with 1 Axes>"
      ]
     },
     "metadata": {},
     "output_type": "display_data"
    }
   ],
   "source": [
    "plt.figure(figsize=(6,4))\n",
    "plt.bar(df8[\"language_full\"], df8[\"average_rating\"], color=\"green\")\n",
    "plt.title(\"Highest Rated Language (after 2000)\")\n",
    "plt.xlabel(\"Language\")\n",
    "plt.ylabel(\"Average Rating (%)\")\n",
    "plt.ylim(0, 100)  \n",
    "plt.show()"
   ]
  },
  {
   "cell_type": "code",
   "execution_count": 66,
   "id": "74bd368e",
   "metadata": {},
   "outputs": [
    {
     "name": "stderr",
     "output_type": "stream",
     "text": [
      "E0000 00:00:1758827335.602231 2333618 alts_credentials.cc:93] ALTS creds ignored. Not running on GCP and untrusted ALTS is not enabled.\n"
     ]
    },
    {
     "data": {
      "application/vnd.microsoft.datawrangler.viewer.v0+json": {
       "columns": [
        {
         "name": "index",
         "rawType": "int64",
         "type": "integer"
        },
        {
         "name": "popularity_bucket",
         "rawType": "object",
         "type": "string"
        },
        {
         "name": "total_movies",
         "rawType": "Int64",
         "type": "integer"
        },
        {
         "name": "average_rating",
         "rawType": "float64",
         "type": "float"
        }
       ],
       "ref": "4d41c7c6-ad6a-4048-af81-391292dc4e39",
       "rows": [
        [
         "0",
         "Low",
         "7334",
         "26887.39081360781"
        ],
        [
         "1",
         "Medium",
         "149",
         "68.41597315436245"
        ],
        [
         "2",
         "High",
         "45",
         "4484537.622666667"
        ]
       ],
       "shape": {
        "columns": 3,
        "rows": 3
       }
      },
      "text/html": [
       "<div>\n",
       "<style scoped>\n",
       "    .dataframe tbody tr th:only-of-type {\n",
       "        vertical-align: middle;\n",
       "    }\n",
       "\n",
       "    .dataframe tbody tr th {\n",
       "        vertical-align: top;\n",
       "    }\n",
       "\n",
       "    .dataframe thead th {\n",
       "        text-align: right;\n",
       "    }\n",
       "</style>\n",
       "<table border=\"1\" class=\"dataframe\">\n",
       "  <thead>\n",
       "    <tr style=\"text-align: right;\">\n",
       "      <th></th>\n",
       "      <th>popularity_bucket</th>\n",
       "      <th>total_movies</th>\n",
       "      <th>average_rating</th>\n",
       "    </tr>\n",
       "  </thead>\n",
       "  <tbody>\n",
       "    <tr>\n",
       "      <th>0</th>\n",
       "      <td>Low</td>\n",
       "      <td>7334</td>\n",
       "      <td>2.688739e+04</td>\n",
       "    </tr>\n",
       "    <tr>\n",
       "      <th>1</th>\n",
       "      <td>Medium</td>\n",
       "      <td>149</td>\n",
       "      <td>6.841597e+01</td>\n",
       "    </tr>\n",
       "    <tr>\n",
       "      <th>2</th>\n",
       "      <td>High</td>\n",
       "      <td>45</td>\n",
       "      <td>4.484538e+06</td>\n",
       "    </tr>\n",
       "  </tbody>\n",
       "</table>\n",
       "</div>"
      ],
      "text/plain": [
       "  popularity_bucket  total_movies  average_rating\n",
       "0               Low          7334    2.688739e+04\n",
       "1            Medium           149    6.841597e+01\n",
       "2              High            45    4.484538e+06"
      ]
     },
     "execution_count": 66,
     "metadata": {},
     "output_type": "execute_result"
    }
   ],
   "source": [
    "query = \"\"\"\n",
    "\n",
    "SELECT popularity_bucket, COUNT(*) AS total_movies, AVG(rating_percent) AS average_rating \n",
    "FROM `movie-etl-pipeline.movies.cleaned_movies`\n",
    "GROUP BY popularity_bucket\n",
    "\n",
    "\"\"\"\n",
    "\n",
    "df9 = client.query(query).to_dataframe()\n",
    "df9\n"
   ]
  },
  {
   "cell_type": "code",
   "execution_count": 67,
   "id": "1abf318f",
   "metadata": {},
   "outputs": [
    {
     "data": {
      "image/png": "[encoded data removed]",
      "text/plain": [
       "<Figure size 800x600 with 1 Axes>"
      ]
     },
     "metadata": {},
     "output_type": "display_data"
    },
    {
     "data": {
      "image/png": "[encoded data removed]",
      "text/plain": [
       "<Figure size 800x600 with 1 Axes>"
      ]
     },
     "metadata": {},
     "output_type": "display_data"
    }
   ],
   "source": [
    "plt.figure(figsize=(8,6))\n",
    "\n",
    "# Film sayılarını bar chart\n",
    "plt.bar(df9[\"popularity_bucket\"], df9[\"total_movies\"], color=\"lightcoral\")\n",
    "plt.title(\"Film Count by Popularity Bucket\")\n",
    "plt.xlabel(\"Popularity Bucket\")\n",
    "plt.ylabel(\"Total Movies\")\n",
    "plt.show()\n",
    "\n",
    "# Ortalama rating için bar chart\n",
    "plt.figure(figsize=(8,6))\n",
    "plt.bar(df9[\"popularity_bucket\"], df9[\"average_rating\"], color=\"seagreen\")\n",
    "plt.title(\"Average Rating by Popularity Bucket\")\n",
    "plt.xlabel(\"Popularity Bucket\")\n",
    "plt.ylabel(\"Average Rating (%)\")\n",
    "plt.show()\n"
   ]
  },
  {
   "cell_type": "code",
   "execution_count": 71,
   "id": "673206f1",
   "metadata": {},
   "outputs": [
    {
     "name": "stderr",
     "output_type": "stream",
     "text": [
      "E0000 00:00:1758828487.606256 2333618 alts_credentials.cc:93] ALTS creds ignored. Not running on GCP and untrusted ALTS is not enabled.\n"
     ]
    },
    {
     "data": {
      "application/vnd.microsoft.datawrangler.viewer.v0+json": {
       "columns": [
        {
         "name": "index",
         "rawType": "int64",
         "type": "integer"
        },
        {
         "name": "language_full",
         "rawType": "object",
         "type": "string"
        },
        {
         "name": "popularity_bucket",
         "rawType": "object",
         "type": "string"
        },
        {
         "name": "total_movies",
         "rawType": "Int64",
         "type": "integer"
        },
        {
         "name": "average_rating",
         "rawType": "float64",
         "type": "float"
        }
       ],
       "ref": "a8cb6f69-3274-4986-b1c4-9d79376befd0",
       "rows": [
        [
         "0",
         "English",
         "High",
         "30",
         "6726773.103333333"
        ]
       ],
       "shape": {
        "columns": 4,
        "rows": 1
       }
      },
      "text/html": [
       "<div>\n",
       "<style scoped>\n",
       "    .dataframe tbody tr th:only-of-type {\n",
       "        vertical-align: middle;\n",
       "    }\n",
       "\n",
       "    .dataframe tbody tr th {\n",
       "        vertical-align: top;\n",
       "    }\n",
       "\n",
       "    .dataframe thead th {\n",
       "        text-align: right;\n",
       "    }\n",
       "</style>\n",
       "<table border=\"1\" class=\"dataframe\">\n",
       "  <thead>\n",
       "    <tr style=\"text-align: right;\">\n",
       "      <th></th>\n",
       "      <th>language_full</th>\n",
       "      <th>popularity_bucket</th>\n",
       "      <th>total_movies</th>\n",
       "      <th>average_rating</th>\n",
       "    </tr>\n",
       "  </thead>\n",
       "  <tbody>\n",
       "    <tr>\n",
       "      <th>0</th>\n",
       "      <td>English</td>\n",
       "      <td>High</td>\n",
       "      <td>30</td>\n",
       "      <td>6.726773e+06</td>\n",
       "    </tr>\n",
       "  </tbody>\n",
       "</table>\n",
       "</div>"
      ],
      "text/plain": [
       "  language_full popularity_bucket  total_movies  average_rating\n",
       "0       English              High            30    6.726773e+06"
      ]
     },
     "execution_count": 71,
     "metadata": {},
     "output_type": "execute_result"
    }
   ],
   "source": [
    "query = \"\"\"\n",
    "\n",
    "SELECT \n",
    "  language_full, \n",
    "  popularity_bucket, \n",
    "  COUNT(*) AS total_movies, \n",
    "  AVG(rating_percent) AS average_rating\n",
    "FROM `movie-etl-pipeline.movies.cleaned_movies`\n",
    "GROUP BY language_full, popularity_bucket\n",
    "ORDER BY average_rating DESC\n",
    "LIMIT 1\n",
    "\n",
    "\"\"\"\n",
    "\n",
    "df10 = client.query(query).to_dataframe()\n",
    "df10\n"
   ]
  },
  {
   "cell_type": "code",
   "execution_count": 72,
   "id": "b547b261",
   "metadata": {},
   "outputs": [
    {
     "data": {
      "image/png": "[encoded data removed]",
      "text/plain": [
       "<Figure size 600x400 with 1 Axes>"
      ]
     },
     "metadata": {},
     "output_type": "display_data"
    }
   ],
   "source": [
    "row = df10.iloc[0]\n",
    "\n",
    "labels = [f\"{row['language_full']} - {row['popularity_bucket']}\"]\n",
    "values = [row['average_rating']]\n",
    "\n",
    "plt.figure(figsize=(6,4))\n",
    "plt.bar(labels, values, color=\"orange\")\n",
    "plt.title(\"Highest Average Rating by Language & Popularity Bucket\")\n",
    "plt.ylabel(\"Average Rating (%)\")\n",
    "plt.show()"
   ]
  },
  {
   "cell_type": "code",
   "execution_count": 74,
   "id": "68310482",
   "metadata": {},
   "outputs": [
    {
     "name": "stderr",
     "output_type": "stream",
     "text": [
      "E0000 00:00:1758828909.302155 2333618 alts_credentials.cc:93] ALTS creds ignored. Not running on GCP and untrusted ALTS is not enabled.\n"
     ]
    },
    {
     "data": {
      "application/vnd.microsoft.datawrangler.viewer.v0+json": {
       "columns": [
        {
         "name": "index",
         "rawType": "int64",
         "type": "integer"
        },
        {
         "name": "popularity_bucket",
         "rawType": "object",
         "type": "string"
        },
        {
         "name": "language_full",
         "rawType": "object",
         "type": "string"
        },
        {
         "name": "average_rating",
         "rawType": "float64",
         "type": "float"
        },
        {
         "name": "total_movies",
         "rawType": "Int64",
         "type": "integer"
        }
       ],
       "ref": "d1763b4f-a931-4011-ad7b-483a604cbc64",
       "rows": [
        [
         "0",
         "Low",
         "English",
         "54.93173537100339",
         "4973"
        ],
        [
         "1",
         "Low",
         "French",
         "50.42199430199433",
         "351"
        ],
        [
         "2",
         "Low",
         "Other",
         "112377.87381678094",
         "1752"
        ],
        [
         "3",
         "Low",
         "Japanese",
         "58.975426356589146",
         "258"
        ],
        [
         "4",
         "Medium",
         "English",
         "68.57727272727273",
         "99"
        ],
        [
         "5",
         "High",
         "Other",
         "65.18545454545455",
         "11"
        ],
        [
         "6",
         "High",
         "English",
         "6726773.103333333",
         "30"
        ],
        [
         "7",
         "Medium",
         "Japanese",
         "68.74000000000001",
         "6"
        ],
        [
         "8",
         "High",
         "Japanese",
         "75.96",
         "3"
        ],
        [
         "9",
         "Medium",
         "Other",
         "68.1045238095238",
         "42"
        ],
        [
         "10",
         "High",
         "French",
         "55.0",
         "1"
        ],
        [
         "11",
         "Medium",
         "French",
         "66.0",
         "2"
        ]
       ],
       "shape": {
        "columns": 4,
        "rows": 12
       }
      },
      "text/html": [
       "<div>\n",
       "<style scoped>\n",
       "    .dataframe tbody tr th:only-of-type {\n",
       "        vertical-align: middle;\n",
       "    }\n",
       "\n",
       "    .dataframe tbody tr th {\n",
       "        vertical-align: top;\n",
       "    }\n",
       "\n",
       "    .dataframe thead th {\n",
       "        text-align: right;\n",
       "    }\n",
       "</style>\n",
       "<table border=\"1\" class=\"dataframe\">\n",
       "  <thead>\n",
       "    <tr style=\"text-align: right;\">\n",
       "      <th></th>\n",
       "      <th>popularity_bucket</th>\n",
       "      <th>language_full</th>\n",
       "      <th>average_rating</th>\n",
       "      <th>total_movies</th>\n",
       "    </tr>\n",
       "  </thead>\n",
       "  <tbody>\n",
       "    <tr>\n",
       "      <th>0</th>\n",
       "      <td>Low</td>\n",
       "      <td>English</td>\n",
       "      <td>5.493174e+01</td>\n",
       "      <td>4973</td>\n",
       "    </tr>\n",
       "    <tr>\n",
       "      <th>1</th>\n",
       "      <td>Low</td>\n",
       "      <td>French</td>\n",
       "      <td>5.042199e+01</td>\n",
       "      <td>351</td>\n",
       "    </tr>\n",
       "    <tr>\n",
       "      <th>2</th>\n",
       "      <td>Low</td>\n",
       "      <td>Other</td>\n",
       "      <td>1.123779e+05</td>\n",
       "      <td>1752</td>\n",
       "    </tr>\n",
       "    <tr>\n",
       "      <th>3</th>\n",
       "      <td>Low</td>\n",
       "      <td>Japanese</td>\n",
       "      <td>5.897543e+01</td>\n",
       "      <td>258</td>\n",
       "    </tr>\n",
       "    <tr>\n",
       "      <th>4</th>\n",
       "      <td>Medium</td>\n",
       "      <td>English</td>\n",
       "      <td>6.857727e+01</td>\n",
       "      <td>99</td>\n",
       "    </tr>\n",
       "    <tr>\n",
       "      <th>5</th>\n",
       "      <td>High</td>\n",
       "      <td>Other</td>\n",
       "      <td>6.518545e+01</td>\n",
       "      <td>11</td>\n",
       "    </tr>\n",
       "    <tr>\n",
       "      <th>6</th>\n",
       "      <td>High</td>\n",
       "      <td>English</td>\n",
       "      <td>6.726773e+06</td>\n",
       "      <td>30</td>\n",
       "    </tr>\n",
       "    <tr>\n",
       "      <th>7</th>\n",
       "      <td>Medium</td>\n",
       "      <td>Japanese</td>\n",
       "      <td>6.874000e+01</td>\n",
       "      <td>6</td>\n",
       "    </tr>\n",
       "    <tr>\n",
       "      <th>8</th>\n",
       "      <td>High</td>\n",
       "      <td>Japanese</td>\n",
       "      <td>7.596000e+01</td>\n",
       "      <td>3</td>\n",
       "    </tr>\n",
       "    <tr>\n",
       "      <th>9</th>\n",
       "      <td>Medium</td>\n",
       "      <td>Other</td>\n",
       "      <td>6.810452e+01</td>\n",
       "      <td>42</td>\n",
       "    </tr>\n",
       "    <tr>\n",
       "      <th>10</th>\n",
       "      <td>High</td>\n",
       "      <td>French</td>\n",
       "      <td>5.500000e+01</td>\n",
       "      <td>1</td>\n",
       "    </tr>\n",
       "    <tr>\n",
       "      <th>11</th>\n",
       "      <td>Medium</td>\n",
       "      <td>French</td>\n",
       "      <td>6.600000e+01</td>\n",
       "      <td>2</td>\n",
       "    </tr>\n",
       "  </tbody>\n",
       "</table>\n",
       "</div>"
      ],
      "text/plain": [
       "   popularity_bucket language_full  average_rating  total_movies\n",
       "0                Low       English    5.493174e+01          4973\n",
       "1                Low        French    5.042199e+01           351\n",
       "2                Low         Other    1.123779e+05          1752\n",
       "3                Low      Japanese    5.897543e+01           258\n",
       "4             Medium       English    6.857727e+01            99\n",
       "5               High         Other    6.518545e+01            11\n",
       "6               High       English    6.726773e+06            30\n",
       "7             Medium      Japanese    6.874000e+01             6\n",
       "8               High      Japanese    7.596000e+01             3\n",
       "9             Medium         Other    6.810452e+01            42\n",
       "10              High        French    5.500000e+01             1\n",
       "11            Medium        French    6.600000e+01             2"
      ]
     },
     "execution_count": 74,
     "metadata": {},
     "output_type": "execute_result"
    }
   ],
   "source": [
    "query = \"\"\"\n",
    "SELECT popularity_bucket,language_full, AVG(rating_percent) AS average_rating, COUNT(*) AS total_movies\n",
    "FROM `movie-etl-pipeline.movies.cleaned_movies`\n",
    "GROUP BY popularity_bucket, language_full\n",
    "\n",
    "\"\"\"\n",
    "\n",
    "df11 = client.query(query).to_dataframe()\n",
    "df11\n"
   ]
  },
  {
   "cell_type": "code",
   "execution_count": 78,
   "id": "bbab3afd",
   "metadata": {},
   "outputs": [
    {
     "data": {
      "image/png": "[encoded data removed]",
      "text/plain": [
       "<Figure size 1200x600 with 1 Axes>"
      ]
     },
     "metadata": {},
     "output_type": "display_data"
    }
   ],
   "source": [
    "plt.figure(figsize=(12,6))\n",
    "sns.barplot(\n",
    "    data=df11,\n",
    "    x=\"popularity_bucket\",\n",
    "    y=\"average_rating\",\n",
    "    hue=\"language_full\"\n",
    ")\n",
    "\n",
    "plt.title(\"Average Rating by Popularity Bucket and Language\")\n",
    "plt.xlabel(\"Popularity Bucket\")\n",
    "plt.ylabel(\"Average Rating (%)\")\n",
    "plt.legend(title=\"Language\", bbox_to_anchor=(1.05, 1), loc='upper left')\n",
    "plt.tight_layout()\n",
    "plt.show()"
   ]
  },
  {
   "cell_type": "code",
   "execution_count": 109,
   "id": "6418d961",
   "metadata": {},
   "outputs": [
    {
     "name": "stderr",
     "output_type": "stream",
     "text": [
      "E0000 00:00:1758830952.840107 2333618 alts_credentials.cc:93] ALTS creds ignored. Not running on GCP and untrusted ALTS is not enabled.\n"
     ]
    },
    {
     "data": {
      "application/vnd.microsoft.datawrangler.viewer.v0+json": {
       "columns": [
        {
         "name": "index",
         "rawType": "int64",
         "type": "integer"
        },
        {
         "name": "language_full",
         "rawType": "object",
         "type": "string"
        },
        {
         "name": "average_rating",
         "rawType": "float64",
         "type": "float"
        },
        {
         "name": "global_average",
         "rawType": "float64",
         "type": "float"
        },
        {
         "name": "difference_from_global",
         "rawType": "float64",
         "type": "float"
        }
       ],
       "ref": "df18c14a-9696-49d9-9a90-67d57da095b4",
       "rows": [
        [
         "0",
         "Other",
         "109080.11764930747",
         "53002.990333023394",
         "56077.12731628408"
        ],
        [
         "1",
         "English",
         "39608.615791846365",
         "53002.990333023394",
         "-13394.374541177029"
        ],
        [
         "2",
         "Japanese",
         "59.38569288389513",
         "53002.990333023394",
         "-52943.6046401395"
        ],
        [
         "3",
         "French",
         "50.522937853107344",
         "53002.990333023394",
         "-52952.467395170286"
        ]
       ],
       "shape": {
        "columns": 4,
        "rows": 4
       }
      },
      "text/html": [
       "<div>\n",
       "<style scoped>\n",
       "    .dataframe tbody tr th:only-of-type {\n",
       "        vertical-align: middle;\n",
       "    }\n",
       "\n",
       "    .dataframe tbody tr th {\n",
       "        vertical-align: top;\n",
       "    }\n",
       "\n",
       "    .dataframe thead th {\n",
       "        text-align: right;\n",
       "    }\n",
       "</style>\n",
       "<table border=\"1\" class=\"dataframe\">\n",
       "  <thead>\n",
       "    <tr style=\"text-align: right;\">\n",
       "      <th></th>\n",
       "      <th>language_full</th>\n",
       "      <th>average_rating</th>\n",
       "      <th>global_average</th>\n",
       "      <th>difference_from_global</th>\n",
       "    </tr>\n",
       "  </thead>\n",
       "  <tbody>\n",
       "    <tr>\n",
       "      <th>0</th>\n",
       "      <td>Other</td>\n",
       "      <td>109080.117649</td>\n",
       "      <td>53002.990333</td>\n",
       "      <td>56077.127316</td>\n",
       "    </tr>\n",
       "    <tr>\n",
       "      <th>1</th>\n",
       "      <td>English</td>\n",
       "      <td>39608.615792</td>\n",
       "      <td>53002.990333</td>\n",
       "      <td>-13394.374541</td>\n",
       "    </tr>\n",
       "    <tr>\n",
       "      <th>2</th>\n",
       "      <td>Japanese</td>\n",
       "      <td>59.385693</td>\n",
       "      <td>53002.990333</td>\n",
       "      <td>-52943.604640</td>\n",
       "    </tr>\n",
       "    <tr>\n",
       "      <th>3</th>\n",
       "      <td>French</td>\n",
       "      <td>50.522938</td>\n",
       "      <td>53002.990333</td>\n",
       "      <td>-52952.467395</td>\n",
       "    </tr>\n",
       "  </tbody>\n",
       "</table>\n",
       "</div>"
      ],
      "text/plain": [
       "  language_full  average_rating  global_average  difference_from_global\n",
       "0         Other   109080.117649    53002.990333            56077.127316\n",
       "1       English    39608.615792    53002.990333           -13394.374541\n",
       "2      Japanese       59.385693    53002.990333           -52943.604640\n",
       "3        French       50.522938    53002.990333           -52952.467395"
      ]
     },
     "execution_count": 109,
     "metadata": {},
     "output_type": "execute_result"
    }
   ],
   "source": [
    "query = \"\"\"\n",
    "\n",
    "SELECT \n",
    "  language_full,\n",
    "  AVG(rating_percent) AS average_rating,\n",
    "  (SELECT AVG(rating_percent) FROM `movie-etl-pipeline.movies.cleaned_movies`) AS global_average,\n",
    "  AVG(rating_percent) - (SELECT AVG(rating_percent) FROM `movie-etl-pipeline.movies.cleaned_movies`) AS difference_from_global\n",
    "FROM `movie-etl-pipeline.movies.cleaned_movies`\n",
    "GROUP BY language_full\n",
    "ORDER BY difference_from_global DESC;\n",
    "\n",
    "\"\"\"\n",
    "\n",
    "df12 = client.query(query).to_dataframe()\n",
    "df12\n"
   ]
  },
  {
   "cell_type": "code",
   "execution_count": 110,
   "id": "5772807e",
   "metadata": {},
   "outputs": [
    {
     "data": {
      "image/png": "[encoded data removed]",
      "text/plain": [
       "<Figure size 1000x600 with 1 Axes>"
      ]
     },
     "metadata": {},
     "output_type": "display_data"
    }
   ],
   "source": [
    "plt.figure(figsize=(10,6))\n",
    "plt.bar(df12[\"language_full\"], df12[\"difference_from_global\"], color=\"teal\")\n",
    "plt.axhline(0, color=\"red\", linestyle=\"--\", linewidth=1) \n",
    "plt.title(\"Difference from Global Average Rating by Language\")\n",
    "plt.xlabel(\"Language\")\n",
    "plt.ylabel(\"Difference from Global Average (%)\")\n",
    "plt.xticks(rotation=45)\n",
    "plt.show()\n"
   ]
  }
 ],
 "metadata": {
  "kernelspec": {
   "display_name": "venv",
   "language": "python",
   "name": "python3"
  },
  "language_info": {
   "codemirror_mode": {
    "name": "ipython",
    "version": 3
   },
   "file_extension": ".py",
   "mimetype": "text/x-python",
   "name": "python",
   "nbconvert_exporter": "python",
   "pygments_lexer": "ipython3",
   "version": "3.13.2"
  }
 },
 "nbformat": 4,
 "nbformat_minor": 5
}
